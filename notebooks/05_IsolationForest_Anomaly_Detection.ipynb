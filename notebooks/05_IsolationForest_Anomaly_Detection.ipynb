{
 "cells": [
  {
   "cell_type": "markdown",
   "metadata": {},
   "source": [
    "# 5. Model-Based Anomaly Detection: Isolation Forest"
   ]
  },
  {
   "cell_type": "markdown",
   "metadata": {},
   "source": [
    "## Concept & Theory"
   ]
  },
  {
   "cell_type": "markdown",
   "metadata": {},
   "source": [
    "Isolation Forest is an ensemble-based anomaly detection algorithm. The core idea is that anomalies are \"few and different\" and therefore easier to isolate than normal points. The algorithm builds an ensemble of isolation trees (iTrees) for the data. To isolate a data point, the algorithm recursively partitions the data until the point is isolated. The number of partitions required to isolate a point is its path length. Anomalies are expected to have shorter path lengths than normal points."
   ]
  },
  {
   "cell_type": "markdown",
   "metadata": {},
   "source": [
    "## Mathematical Overview"
   ]
  },
  {
   "cell_type": "markdown",
   "metadata": {},
   "source": [
    "1. **iTree Construction**: An iTree is a binary tree where each node represents a partition of the data. A random feature and a random split value are chosen to partition the data at each node.\n",
    "2. **Path Length**: The path length *h(x)* of a point *x* is the number of edges from the root of the iTree to the node where *x* is isolated.\n",
    "3. **Anomaly Score**: The anomaly score *s(x, n)* for a point *x* is calculated as:\n",
    "   $$ s(x, n) = 2^{-\\frac{E(h(x))}{c(n)}} $$",
    "   where *E(h(x))* is the average path length of *x* over all iTrees, and *c(n)* is the average path length of an unsuccessful search in a Binary Search Tree, given by:\n",
    "   $$ c(n) = 2H(n-1) - (2(n-1)/n) $$",
    "   where *H(i)* is the harmonic number, which can be estimated as *ln(i) + 0.5772156649* (Euler's constant).\n",
    "   - If the score is close to 1, the point is likely an anomaly.\n",
    "   - If the score is less than 0.5, the point is likely a normal point.\n",
    "   - If all scores are close to 0.5, then the entire sample does not seem to have any distinct anomalies."
   ]
  },
  {
   "cell_type": "markdown",
   "metadata": {},
   "source": [
    "## Python Implementation"
   ]
  },
  {
   "cell_type": "code",
   "execution_count": null,
   "metadata": {},
   "outputs": [],
   "source": [
    "import numpy as np\n",
    "import matplotlib.pyplot as plt\n",
    "from sklearn.ensemble import IsolationForest\n",
    "from sklearn.datasets import make_blobs"
   ]
  },
  {
   "cell_type": "markdown",
   "metadata": {},
   "source": [
    "### 1. Generate Sample Data"
   ]
  },
  {
   "cell_type": "code",
   "execution_count": null,
   "metadata": {},
   "outputs": [],
   "source": [
    "# Generate isotropic Gaussian blobs for clustering\n",
    "X, _ = make_blobs(n_samples=300, centers=1, cluster_std=1.0, random_state=0)\n",
    "\n",
    "# Add some outliers\n",
    "outliers = np.array([[5, 5], [-5, -5]])\n",
    "X = np.concatenate([X, outliers])"
   ]
  },
  {
   "cell_type": "markdown",
   "metadata": {},
   "source": [
    "### 2. Fit Isolation Forest Model"
   ]
  },
  {
   "cell_type": "code",
   "execution_count": null,
   "metadata": {},
   "outputs": [],
   "source": [
    "# contamination='auto' is a good default\n",
    "iso_forest = IsolationForest(contamination='auto', random_state=0).fit(X)"
   ]
  },
  {
   "cell_type": "markdown",
   "metadata": {},
   "source": [
    "### 3. Identify Anomalies"
   ]
  },
  {
   "cell_type": "code",
   "execution_count": null,
   "metadata": {},
   "outputs": [],
   "source": [
    "# The predict method returns -1 for outliers and 1 for inliers.\n",
    "y_pred = iso_forest.predict(X)\n",
    "anomalies = X[y_pred == -1]"
   ]
  },
  {
   "cell_type": "markdown",
   "metadata": {},
   "source": [
    "### 4. Visualize Results"
   ]
  },
  {
   "cell_type": "code",
   "execution_count": null,
   "metadata": {},
   "outputs": [],
   "source": [
    "plt.figure(figsize=(8, 6))\n",
    "plt.scatter(X[:, 0], X[:, 1], c=y_pred, cmap='viridis', label='Clusters')\n",
    "plt.scatter(anomalies[:, 0], anomalies[:, 1], c='r', label='Anomalies')\n",
    "plt.title('Isolation Forest Anomaly Detection')\n",
    "plt.xlabel('Feature 1')\n",
    "plt.ylabel('Feature 2')\n",
    "plt.legend()\n",
    "plt.show()"
   ]
  },
  {
   "cell_type": "markdown",
   "metadata": {},
   "source": [
    "## Pros & Cons"
   ]
  },
  {
   "cell_type": "markdown",
   "metadata": {},
   "source": [
    "### Pros\n",
    "- **Efficient**: It has a low time complexity and is suitable for large datasets.\n",
    "- **Handles high-dimensional data well**: It can be effective even with a large number of features.\n",
    "- **No need to specify the number of clusters**: It does not require any cluster-related parameters.\n",
    "\n",
    "### Cons\n",
    "- **Can be sensitive to the number of trees**: The performance can be affected by the number of iTrees in the forest.\n",
    "- **May not perform well on complex datasets**: It may struggle with datasets that have complex structures and no clear separation between normal and anomalous points."
   ]
  },
  {
   "cell_type": "markdown",
   "metadata": {},
   "source": [
    "## When to Use"
   ]
  },
  {
   "cell_type": "markdown",
   "metadata": {},
   "source": [
    "Isolation Forest is a good choice for anomaly detection when:\n",
    "- The dataset is large and high-dimensional.\n",
    "- There is no prior knowledge about the data distribution.\n",
    "- Anomalies are expected to be few and different from normal data."
   ]
  }
 ],
 "metadata": {},
 "nbformat": 4,
 "nbformat_minor": 5
}