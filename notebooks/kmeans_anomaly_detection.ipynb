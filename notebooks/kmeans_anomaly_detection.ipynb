{
 "cells": [
  {
   "cell_type": "markdown",
   "id": "4cc6f82b",
   "metadata": {},
   "source": [
    "# 1. Clustering-Based Anomaly Detection: K-Means\n",
    "\n",
    "## Concept & Theory\n",
    "\n",
    "- The core idea behind using k-means for anomaly detection is to group data points into clusters. Normal data points will tend to be close to the center of a cluster (centroid), while anomalies will be far from any cluster centroid. The distance of a data point from its nearest cluster centroid can be used as an anomaly score."
   ]
  },
  {
   "cell_type": "markdown",
   "id": "b8ab9c4f",
   "metadata": {},
   "source": [
    "1. **Clustering**: The k-means algorithm partitions the data into *k* clusters by minimizing the within-cluster sum of squares (WCSS):\n",
    "\n",
    "    $$ \\text{WCSS} = \\sum_{i=1}^{k} \\sum_{x \\in C_i} ||x - \\mu_i||^2 $$\n",
    "\n",
    "    where $C_i$ is the $i$-th cluster and $\\mu_i$ is its centroid.\n",
    "\n",
    "2. **Anomaly Score**: For any data point $x$, its anomaly score is its Euclidean distance to the nearest centroid:\n",
    "\n",
    "$$ \\text{Anomaly Score}(x) = \\min_{i=1,...,k} ||x - \\mu_i||^2 $$\n",
    "\n",
    "3. **Thresholding**: A threshold is set on the anomaly scores to classify points as anomalies. A common approach is to use a quantile of the distances."
   ]
  },
  {
   "cell_type": "markdown",
   "id": "83422c96",
   "metadata": {},
   "source": [
    "## Python Implementation"
   ]
  },
  {
   "cell_type": "code",
   "execution_count": null,
   "id": "a6c52ca7",
   "metadata": {},
   "outputs": [],
   "source": [
    "import numpy as np\n",
    "import matplotlib.pyplot as plt\n",
    "from sklearn.cluster import KMeans\n",
    "from sklearn.datasets import make_blobs"
   ]
  },
  {
   "cell_type": "code",
   "execution_count": null,
   "id": "40ff33fc",
   "metadata": {},
   "outputs": [],
   "source": []
  }
 ],
 "metadata": {
  "language_info": {
   "name": "python"
  }
 },
 "nbformat": 4,
 "nbformat_minor": 5
}
