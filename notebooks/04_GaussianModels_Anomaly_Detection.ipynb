{
 "cells": [
  {
   "cell_type": "markdown",
   "metadata": {},
   "source": [
    "# 4. Statistical Anomaly Detection: Gaussian Models"
   ]
  },
  {
   "cell_type": "markdown",
   "metadata": {},
   "source": [
    "## Concept & Theory"
   ]
  },
  {
   "cell_type": "markdown",
   "metadata": {},
   "source": [
    "The core idea behind using Gaussian models for anomaly detection is to fit a Gaussian distribution to the data. Data points that have a low probability under this distribution are considered anomalies. This method assumes that the normal data points are generated from a Gaussian distribution."
   ]
  },
  {
   "cell_type": "markdown",
   "metadata": {},
   "source": [
    "## Mathematical Overview"
   ]
  },
  {
   "cell_type": "markdown",
   "metadata": {},
   "source": [
    "1. **Parameter Estimation**: We model the data using a multivariate Gaussian distribution with mean $\mu$ and covariance matrix $\Sigma$. These parameters are estimated from the data.\n",
    "   $$ \mu = \frac{1}{m} \sum_{i=1}^{m} x^{(i)} $$$$\Sigma = \frac{1}{m} \sum_{i=1}^{m} (x^{(i)} - \mu)(x^{(i)} - \mu)^T $$",
    "2. **Probability Density Function**: The probability of a data point *x* is given by:\n",
    "   $$ p(x; \mu, \Sigma) = \frac{1}{(2\pi)^{n/2} |\Sigma|^{1/2}} \exp\left(-\frac{1}{2}(x-\mu)^T \Sigma^{-1} (x-\mu)\right) $$",
    "3. **Anomaly Detection**: We select a threshold $\epsilon$. If $p(x; \mu, \Sigma) < \epsilon$, the point is classified as an anomaly."
   ]
  },
  {
   "cell_type": "markdown",
   "metadata": {},
   "source": [
    "## Python Implementation"
   ]
  },
  {
   "cell_type": "code",
   "execution_count": null,
   "metadata": {},
   "outputs": [],
   "source": [
    "import numpy as np\n",
    "import matplotlib.pyplot as plt\n",
    "from scipy.stats import multivariate_normal\n",
    "from sklearn.datasets import make_blobs"
   ]
  },
  {
   "cell_type": "markdown",
   "metadata": {},
   "source": [
    "### 1. Generate Sample Data"
   ]
  },
  {
   "cell_type": "code",
   "execution_count": null,
   "metadata": {},
   "outputs": [],
   "source": [
    "# Generate isotropic Gaussian blobs for clustering\n",
    "X, _ = make_blobs(n_samples=300, centers=1, cluster_std=1.0, random_state=0)\n",
    "\n",
    "# Add some outliers\n",
    "outliers = np.array([[5, 5], [-5, -5]])\n",
    "X = np.concatenate([X, outliers])"
   ]
  },
  {
   "cell_type": "markdown",
   "metadata": {},
   "source": [
    "### 2. Estimate Parameters"
   ]
  },
  {
   "cell_type": "code",
   "execution_count": null,
   "metadata": {},
   "outputs": [],
   "source": [
    "mu = np.mean(X, axis=0)\n",
    "sigma = np.cov(X.T)"
   ]
  },
  {
   "cell_type": "markdown",
   "metadata": {},
   "source": [
    "### 3. Calculate Probabilities"
   ]
  },
  {
   "cell_type": "code",
   "execution_count": null,
   "metadata": {},
   "outputs": [],
   "source": [
    "p = multivariate_normal.pdf(X, mean=mu, cov=sigma)"
   ]
  },
  {
   "cell_type": "markdown",
   "metadata": {},
   "source": [
    "### 4. Identify Anomalies"
   ]
  },
  {
   "cell_type": "code",
   "execution_count": null,
   "metadata": {},
   "outputs": [],
   "source": [
    "# Set a threshold for anomaly detection\n",
    "threshold = 1e-3\n",
    "anomalies = X[p < threshold]"
   ]
  },
  {
   "cell_type": "markdown",
   "metadata": {},
   "source": [
    "### 5. Visualize Results"
   ]
  },
  {
   "cell_type": "code",
   "execution_count": null,
   "metadata": {},
   "outputs": [],
   "source": [
    "plt.figure(figsize=(8, 6))\n",
    "plt.scatter(X[:, 0], X[:, 1], c='b', label='Normal Data')\n",
    "plt.scatter(anomalies[:, 0], anomalies[:, 1], c='r', label='Anomalies')\n",
    "plt.title('Gaussian Model Anomaly Detection')\n",
    "plt.xlabel('Feature 1')\n",
    "plt.ylabel('Feature 2')\n",
    "plt.legend()\n",
    "plt.show()"
   ]
  },
  {
   "cell_type": "markdown",
   "metadata": {},
   "source": [
    "## Pros & Cons"
   ]
  },
  {
   "cell_type": "markdown",
   "metadata": {},
   "source": [
    "### Pros\n",
    "- **Computationally efficient**: The model is fast to train and evaluate.\n",
    "- **Probabilistic approach**: It provides a probability score for each data point.\n",
    "- **Easy to interpret**: The model is based on a well-understood statistical distribution.\n",
    "\n",
    "### Cons\n",
    "- **Assumes Gaussian distribution**: It performs poorly if the data is not Gaussian.\n",
    "- **Sensitive to outliers in training data**: The parameter estimation can be skewed by outliers.\n",
    "- **May not work well with multimodal distributions**: A single Gaussian may not be a good fit for data with multiple clusters."
   ]
  },
  {
   "cell_type": "markdown",
   "metadata": {},
   "source": [
    "## When to Use"
   ]
  },
  {
   "cell_type": "markdown",
   "metadata": {},
   "source": [
    "Gaussian models are a good choice for anomaly detection when:\n",
    "- The data is known to follow a Gaussian distribution.\n",
    "- The dataset is not too large, and the number of features is not too high.\n",
    "- A probabilistic interpretation of the anomaly score is desired."
   ]
  }
 ],
 "metadata": {},
 "nbformat": 4,
 "nbformat_minor": 5
}