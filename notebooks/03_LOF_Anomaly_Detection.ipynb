{
 "cells": [
  {
   "cell_type": "markdown",
   "metadata": {},
   "source": [
    "# 3. Density-Based Anomaly Detection: Local Outlier Factor (LOF)"
   ]
  },
  {
   "cell_type": "markdown",
   "metadata": {},
   "source": [
    "## Concept & Theory"
   ]
  },
  {
   "cell_type": "markdown",
   "metadata": {},
   "source": [
    "Local Outlier Factor (LOF) is a density-based anomaly detection algorithm that measures the local deviation of the density of a given data point with respect to its neighbors. The core idea is to identify outliers by comparing the local density of a point to the local densities of its neighbors. Points in areas of lower density than their neighbors are considered outliers."
   ]
  },
  {
   "cell_type": "markdown",
   "metadata": {},
   "source": [
    "## Mathematical Overview"
   ]
  },
  {
   "cell_type": "markdown",
   "metadata": {},
   "source": [
    "1. **k-distance**: The distance to the *k*-th nearest neighbor.\n",
    "2. **Reachability distance**: The reachability distance of a point *A* from a point *B* is the maximum of the k-distance of *B* and the true distance between *A* and *B*.\\n",
    "   $$ \\text{reach-dist}_k(A, B) = \\max(\\text{k-distance}(B), d(A, B)) $$",
    "3. **Local reachability density (lrd)**: The inverse of the average reachability distance of a point *A* from its neighbors.\\n",
    "   $$ \\text{lrd}_k(A) = 1 / \\left( \\frac{\\sum_{B \\in N_k(A)} \\text{reach-dist}_k(A, B)}{|N_k(A)|} \\right) $$",
    "4. **Local outlier factor (LOF)**: The ratio of the average lrd of the neighbors of *A* to the lrd of *A*.\\n",
    "   $$ \\text{LOF}_k(A) = \\frac{\\sum_{B \\in N_k(A)} \\frac{\\text{lrd}_k(B)}{\\text{lrd}_k(A)}}{|N_k(A)|} = \\frac{\\sum_{B \\in N_k(A)} \\text{lrd}_k(B)}{|N_k(A)|} / \\text{lrd}_k(A) $$",
    "A LOF score close to 1 means the point is in a dense region, while a score significantly greater than 1 indicates an outlier."
   ]
  },
  {
   "cell_type": "markdown",
   "metadata": {},
   "source": [
    "## Python Implementation"
   ]
  },
  {
   "cell_type": "code",
   "execution_count": null,
   "metadata": {},
   "outputs": [],
   "source": [
    "import numpy as np\n",
    "import matplotlib.pyplot as plt\n",
    "from sklearn.neighbors import LocalOutlierFactor\n",
    "from sklearn.datasets import make_blobs"
   ]
  },
  {
   "cell_type": "markdown",
   "metadata": {},
   "source": [
    "### 1. Generate Sample Data"
   ]
  },
  {
   "cell_type": "code",
   "execution_count": null,
   "metadata": {},
   "outputs": [],
   "source": [
    "# Generate isotropic Gaussian blobs for clustering\n",
    "X, _ = make_blobs(n_samples=300, centers=3, cluster_std=0.60, random_state=0)\n",
    "\n",
    "# Add some outliers\n",
    "outliers = np.array([[0, 5], [6, 2]])\n",
    "X = np.concatenate([X, outliers])"
   ]
  },
  {
   "cell_type": "markdown",
   "metadata": {},
   "source": [
    "### 2. Fit LOF Model"
   ]
  },
  {
   "cell_type": "code",
   "execution_count": null,
   "metadata": {},
   "outputs": [],
   "source": [
    "# novelty=True for outlier detection on new data\n",
    "lof = LocalOutlierFactor(n_neighbors=20, contamination='auto', novelty=True).fit(X)"
   ]
  },
  {
   "cell_type": "markdown",
   "metadata": {},
   "source": [
    "### 3. Identify Anomalies"
   ]
  },
  {
   "cell_type": "code",
   "execution_count": null,
   "metadata": {},
   "outputs": [],
   "source": [
    "# The predict method returns -1 for outliers and 1 for inliers.\n",
    "y_pred = lof.predict(X)\n",
    "anomalies = X[y_pred == -1]"
   ]
  },
  {
   "cell_type": "markdown",
   "metadata": {},
   "source": [
    "### 4. Visualize Results"
   ]
  },
  {
   "cell_type": "code",
   "execution_count": null,
   "metadata": {},
   "outputs": [],
   "source": [
    "plt.figure(figsize=(8, 6))\n",
    "plt.scatter(X[:, 0], X[:, 1], c=y_pred, cmap='viridis', label='Clusters')\n",
    "plt.scatter(anomalies[:, 0], anomalies[:, 1], c='r', label='Anomalies')\n",
    "plt.title('LOF Anomaly Detection')\n",
    "plt.xlabel('Feature 1')\n",
    "plt.ylabel('Feature 2')\n",
    "plt.legend()\n",
    "plt.show()"
   ]
  },
  {
   "cell_type": "markdown",
   "metadata": {},
   "source": [
    "## Pros & Cons"
   ]
  },
  {
   "cell_type": "markdown",
   "metadata": {},
   "source": [
    "### Pros\n",
    "- **Effective in identifying local outliers.**: It can find outliers that have a different density than their neighbors.\n",
    "- **No assumption about data distribution.**: It is a non-parametric method.\n",
    "- **Works well with varying density clusters.**: It can handle clusters with different densities.\n",
    "\n",
    "### Cons\n",
    "- **Computationally expensive**: The calculation of the LOF score can be slow for large datasets.\n",
    "- **Curse of dimensionality**: The distance metric can be less meaningful in high-dimensional spaces.\n",
    "- **Parameter sensitive**: The choice of *k* (the number of neighbors) can be challenging."
   ]
  },
  {
   "cell_type": "markdown",
   "metadata": {},
   "source": [
    "## When to Use"
   ]
  },
  {
   "cell_type": "markdown",
   "metadata": {},
   "source": [
    "LOF is a good choice for anomaly detection when:\n",
    "- The dataset has clusters of varying densities.\n",
    "- Outliers are expected to be local, meaning they are in regions of lower density than their neighbors.\n",
    "- The dimensionality of the data is not excessively high."
   ]
  }
 ],
 "metadata": {},
 "nbformat": 4,
 "nbformat_minor": 5
}