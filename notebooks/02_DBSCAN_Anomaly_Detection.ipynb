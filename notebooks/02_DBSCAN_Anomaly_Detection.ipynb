{
 "cells": [
  {
   "cell_type": "markdown",
   "metadata": {},
   "source": [
    "# 2. Clustering-Based Anomaly Detection: DBSCAN"
   ]
  },
  {
   "cell_type": "markdown",
   "metadata": {},
   "source": [
    "## Concept & Theory"
   ]
  },
  {
   "cell_type": "markdown",
   "metadata": {},
   "source": [
    "DBSCAN (Density-Based Spatial Clustering of Applications with Noise) is a density-based clustering algorithm. The main idea is that a point is a core point if it has at least a minimum number of other points (MinPts) within a given radius (epsilon). Clusters are built by connecting core points that are close to each other. Points that are not part of any cluster are considered noise, which makes DBSCAN naturally suited for anomaly detection."
   ]
  },
  {
   "cell_type": "markdown",
   "metadata": {},
   "source": [
    "## Mathematical Overview"
   ]
  },
  {
   "cell_type": "markdown",
   "metadata": {},
   "source": [
    "DBSCAN has two key parameters:\n",
    "- **epsilon (eps)**: The radius of the neighborhood around a point.\n",
    "- **MinPts**: The minimum number of points required to form a dense region.\n",
    "\n",
    "Based on these parameters, points are classified as:\n",
    "- **Core point**: A point that has at least MinPts points (including itself) in its eps-neighborhood.\n",
    "- **Border point**: A point that is not a core point but is in the eps-neighborhood of a core point.\n",
    "- **Noise point (Anomaly)**: A point that is neither a core point nor a border point. These are the points that are considered anomalies."
   ]
  },
  {
   "cell_type": "markdown",
   "metadata": {},
   "source": [
    "## Python Implementation"
   ]
  },
  {
   "cell_type": "code",
   "execution_count": null,
   "metadata": {},
   "outputs": [],
   "source": [
    "import numpy as np\n",
    "import matplotlib.pyplot as plt\n",
    "from sklearn.cluster import DBSCAN\n",
    "from sklearn.datasets import make_moons"
   ]
  },
  {
   "cell_type": "markdown",
   "metadata": {},
   "source": [
    "### 1. Generate Sample Data"
   ]
  },
  {
   "cell_type": "code",
   "execution_count": null,
   "metadata": {},
   "outputs": [],
   "source": [
    "# Generate non-spherical data\n",
    "X, _ = make_moons(n_samples=300, noise=0.05, random_state=0)\n",
    "\n",
    "# Add some outliers\n",
    "outliers = np.array([[-1, 1.5], [2, 1]])\n",
    "X = np.concatenate([X, outliers])"
   ]
  },
  {
   "cell_type": "markdown",
   "metadata": {},
   "source": [
    "### 2. Fit DBSCAN Model"
   ]
  },
  {
   "cell_type": "code",
   "execution_count": null,
   "metadata": {},
   "outputs": [],
   "source": [
    "dbscan = DBSCAN(eps=0.2, min_samples=5).fit(X)"
   ]
  },
  {
   "cell_type": "markdown",
   "metadata": {},
   "source": [
    "### 3. Identify Anomalies"
   ]
  },
  {
   "cell_type": "code",
   "execution_count": null,
   "metadata": {},
   "outputs": [],
   "source": [
    "# Anomalies are labeled as -1 by DBSCAN\n",
    "anomalies = X[dbscan.labels_ == -1]"
   ]
  },
  {
   "cell_type": "markdown",
   "metadata": {},
   "source": [
    "### 4. Visualize Results"
   ]
  },
  {
   "cell_type": "code",
   "execution_count": null,
   "metadata": {},
   "outputs": [],
   "source": [
    "plt.figure(figsize=(8, 6))\n",
    "plt.scatter(X[:, 0], X[:, 1], c=dbscan.labels_, cmap='viridis', label='Clusters')\n",
    "plt.scatter(anomalies[:, 0], anomalies[:, 1], c='r', label='Anomalies')\n",
    "plt.title('DBSCAN Anomaly Detection')\n",
    "plt.xlabel('Feature 1')\n",
    "plt.ylabel('Feature 2')\n",
    "plt.legend()\n",
    "plt.show()"
   ]
  },
  {
   "cell_type": "markdown",
   "metadata": {},
   "source": [
    "## Pros & Cons"
   ]
  },
  {
   "cell_type": "markdown",
   "metadata": {},
   "source": [
    "### Pros\n",
    "- **Can find arbitrarily shaped clusters.**: It is not limited to spherical clusters.\n",
    "- **Does not require specifying the number of clusters.**: The algorithm finds the number of clusters on its own.\n",
    "- **Robust to outliers**: DBSCAN is designed to identify and handle noise.\n",
    "\n",
    "### Cons\n",
    "- **Sensitive to parameters**: The choice of `eps` and `MinPts` can be difficult and has a large impact on the results.\n",
    "- **Struggles with varying density**: It can be challenging to find a good set of parameters for clusters with varying densities.\n",
    "- **Curse of dimensionality**: The distance metric can be less meaningful in high-dimensional spaces."
   ]
  },
  {
   "cell_type": "markdown",
   "metadata": {},
   "source": [
    "## When to Use"
   ]
  },
  {
   "cell_type": "markdown",
   "metadata": {},
   "source": [
    "DBSCAN is a good choice for anomaly detection when:\n",
    "- The clusters have complex shapes.\n",
    "- The number of clusters is unknown.\n",
    "- The dataset contains noise and outliers that need to be identified."
   ]
  }
 ],
 "metadata": {},
 "nbformat": 4,
 "nbformat_minor": 5
}